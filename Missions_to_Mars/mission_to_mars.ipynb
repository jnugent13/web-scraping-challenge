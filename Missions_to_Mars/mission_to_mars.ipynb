{
 "cells": [
  {
   "cell_type": "code",
   "execution_count": 1,
   "metadata": {},
   "outputs": [],
   "source": [
    "from bs4 import BeautifulSoup as bs\n",
    "import pandas as pd\n",
    "from splinter import Browser"
   ]
  },
  {
   "cell_type": "code",
   "execution_count": 2,
   "metadata": {},
   "outputs": [
    {
     "name": "stdout",
     "output_type": "stream",
     "text": [
      "/usr/local/bin/chromedriver\r\n"
     ]
    }
   ],
   "source": [
    " # https://splinter.readthedocs.io/en/latest/drivers/chrome.html\n",
    "!which chromedriver"
   ]
  },
  {
   "cell_type": "code",
   "execution_count": 3,
   "metadata": {},
   "outputs": [],
   "source": [
    "executable_path = {'executable_path': '/usr/local/bin/chromedriver'}\n",
    "browser = Browser('chrome', **executable_path, headless=False)"
   ]
  },
  {
   "cell_type": "markdown",
   "metadata": {},
   "source": [
    "### NASA Mars News"
   ]
  },
  {
   "cell_type": "code",
   "execution_count": 4,
   "metadata": {},
   "outputs": [],
   "source": [
    "url = \"https://mars.nasa.gov/news/?page=0&per_page=40&order=publish_date+desc%2Ccreated_at+desc&search=&category=19%2C165%2C184%2C204&blank_scope=Latest\"\n",
    "browser.visit(url)"
   ]
  },
  {
   "cell_type": "code",
   "execution_count": 5,
   "metadata": {},
   "outputs": [],
   "source": [
    "# HTML object\n",
    "html = browser.html\n",
    "\n",
    "# Parse HTML with Beautiful Soup\n",
    "soup = bs(html, 'lxml')"
   ]
  },
  {
   "cell_type": "code",
   "execution_count": 6,
   "metadata": {},
   "outputs": [
    {
     "data": {
      "text/plain": [
       "\"Meet the People Behind NASA's Perseverance Rover\""
      ]
     },
     "execution_count": 6,
     "metadata": {},
     "output_type": "execute_result"
    }
   ],
   "source": [
    "titles = soup.find_all('div', class_=\"content_title\")\n",
    "news_title = titles[1].text\n",
    "news_title.replace(\"\\n\", \"\")"
   ]
  },
  {
   "cell_type": "code",
   "execution_count": 7,
   "metadata": {},
   "outputs": [
    {
     "data": {
      "text/plain": [
       "\"These are the scientists and engineers who built NASA's next Mars rover and who will guide it to a safe landing in Jezero Crater. \""
      ]
     },
     "execution_count": 7,
     "metadata": {},
     "output_type": "execute_result"
    }
   ],
   "source": [
    "paragraphs = soup.find_all('div', class_=\"article_teaser_body\")\n",
    "news_article = paragraphs[0].text\n",
    "news_article"
   ]
  },
  {
   "cell_type": "markdown",
   "metadata": {},
   "source": [
    "### JPL Mars Space Images - Featured Image"
   ]
  },
  {
   "cell_type": "code",
   "execution_count": 8,
   "metadata": {},
   "outputs": [],
   "source": [
    "jpl_url = \"https://www.jpl.nasa.gov/spaceimages/?search=&category=Mars\"\n",
    "browser.visit(jpl_url)"
   ]
  },
  {
   "cell_type": "code",
   "execution_count": 9,
   "metadata": {},
   "outputs": [],
   "source": [
    "# HTML object\n",
    "html = browser.html\n",
    "\n",
    "# Parse HTML with Beautiful Soup\n",
    "soup = bs(html, 'html.parser')"
   ]
  },
  {
   "cell_type": "code",
   "execution_count": 10,
   "metadata": {},
   "outputs": [
    {
     "data": {
      "text/plain": [
       "'http://www.jpl.nasa.gov/spaceimages/images/mediumsize/PIA18328_ip.jpg'"
      ]
     },
     "execution_count": 10,
     "metadata": {},
     "output_type": "execute_result"
    }
   ],
   "source": [
    "featured_image = soup.find('article', class_=\"carousel_item\")\n",
    "featured_image_link = featured_image.find('a', class_=\"button\")['data-fancybox-href']\n",
    "featured_image_url = f'http://www.jpl.nasa.gov{featured_image_link}'\n",
    "featured_image_url"
   ]
  },
  {
   "cell_type": "markdown",
   "metadata": {},
   "source": [
    "### Mars Weather"
   ]
  },
  {
   "cell_type": "code",
   "execution_count": 11,
   "metadata": {},
   "outputs": [],
   "source": [
    "mars_weather_url = \"https://twitter.com/marswxreport?lang=en\"\n",
    "browser.visit(mars_weather_url)"
   ]
  },
  {
   "cell_type": "code",
   "execution_count": 12,
   "metadata": {},
   "outputs": [],
   "source": [
    "# HTML object\n",
    "html = browser.html\n",
    "\n",
    "# Parse HTML with Beautiful Soup\n",
    "soup = bs(html, 'html.parser')"
   ]
  },
  {
   "cell_type": "code",
   "execution_count": 15,
   "metadata": {},
   "outputs": [
    {
     "data": {
      "text/plain": [
       "['',\n",
       " '',\n",
       " '',\n",
       " 'Log in',\n",
       " 'Log in',\n",
       " 'Sign up',\n",
       " 'Sign up',\n",
       " '',\n",
       " '',\n",
       " 'Follow',\n",
       " 'Follow',\n",
       " 'Mars Weather',\n",
       " 'Mars Weather',\n",
       " '',\n",
       " '@MarsWxReport',\n",
       " 'Updates as avail from the REMS weather instrument aboard ',\n",
       " '@MarsCuriosity',\n",
       " '.  Data credit: Centro deAstrobiologia, FMI, JPL/NASA, Not an official acct.',\n",
       " 'Gale Crater, Mars',\n",
       " 'Gale Crater, Mars',\n",
       " 'Gale Crater, Mars',\n",
       " 'Joined August 2012',\n",
       " '51',\n",
       " '51',\n",
       " 'Following',\n",
       " 'Following',\n",
       " '57.2K',\n",
       " '57.2K',\n",
       " 'Followers',\n",
       " 'Followers',\n",
       " '',\n",
       " '',\n",
       " '',\n",
       " '',\n",
       " 'Tweets',\n",
       " 'Tweets & replies',\n",
       " 'Media',\n",
       " 'Likes',\n",
       " 'Mars Weather',\n",
       " 'Mars Weather',\n",
       " '@MarsWxReport',\n",
       " '·',\n",
       " 'InSight sol 506 (2020-04-29) low -93.5ºC (-136.2ºF) high -3.7ºC (25.3ºF)\\nwinds from the WNW at 4.5 m/s (10.1 mph) gusting to 15.6 m/s (34.8 mph)\\npressure at 6.80 hPa',\n",
       " '4',\n",
       " '4',\n",
       " '20',\n",
       " '20',\n",
       " 'Mars Weather',\n",
       " 'Mars Weather',\n",
       " '@MarsWxReport',\n",
       " '·',\n",
       " 'InSight sol 505 (2020-04-28) low -93.8ºC (-136.8ºF) high -6.6ºC (20.1ºF)\\nwinds from the WNW at 4.2 m/s (9.4 mph) gusting to 13.2 m/s (29.6 mph)\\npressure at 6.70 hPa',\n",
       " '1',\n",
       " '1',\n",
       " '8',\n",
       " '8',\n",
       " 'Mars Weather Retweeted',\n",
       " 'Mars Weather',\n",
       " 'Mars Weather',\n",
       " 'Doug Ellison',\n",
       " 'Doug Ellison',\n",
       " '@doug_ellison',\n",
       " '·',\n",
       " 'Lovely view of Gale Crater right in the middle of this. ',\n",
       " 'Quote Tweet',\n",
       " 'landru79',\n",
       " 'landru79',\n",
       " '@landru79',\n",
       " 'Apr 29',\n",
       " 'GIF',\n",
       " 'GIF',\n",
       " 'VMC The Mars Webcam',\n",
       " '#VMC',\n",
       " '#VMC',\n",
       " ' Image acquired on 28-04-2020 at 10:39:56 at an altitude of 4366.65 km above ',\n",
       " '#Mars',\n",
       " '#Mars',\n",
       " ', on Mars Express orbit number 20637',\n",
       " '',\n",
       " '',\n",
       " '',\n",
       " '',\n",
       " '',\n",
       " '10',\n",
       " '10',\n",
       " '28',\n",
       " '28',\n",
       " 'Mars Weather',\n",
       " 'Mars Weather',\n",
       " '@MarsWxReport',\n",
       " '·',\n",
       " 'The helicopter aboard ',\n",
       " '@NASAPersevere',\n",
       " ' has a new name: Ingenuity, courtesy of Vaneeza Rupani a junior at Tuscaloosa County High School in Northport, Alabama ',\n",
       " '@tcss_schools',\n",
       " 'High School Student Names NASA’s Mars Helicopter',\n",
       " 'High School Student Names NASA’s Mars Helicopter',\n",
       " 'The first aircraft that will attempt powered flight on another world has a new name! Meet Ingenuity – NASA’s Mars Helicopter. And the inspiration for the nam...',\n",
       " 'The first aircraft that will attempt powered flight on another world has a new name! Meet Ingenuity – NASA’s Mars Helicopter. And the inspiration for the nam...',\n",
       " '',\n",
       " 'youtube.com',\n",
       " 'youtube.com',\n",
       " '3',\n",
       " '3',\n",
       " '12',\n",
       " '12',\n",
       " 'Mars Weather',\n",
       " 'Mars Weather',\n",
       " '@MarsWxReport',\n",
       " '·',\n",
       " 'InSight sol 504 (2020-04-27) low -93.6ºC (-136.5ºF) high -6.7ºC (20.0ºF)\\nwinds from the SW at 4.6 m/s (10.3 mph) gusting to 15.0 m/s (33.6 mph)\\npressure at 6.80 hPa',\n",
       " '6',\n",
       " '6',\n",
       " '30',\n",
       " '30',\n",
       " 'New to Twitter?',\n",
       " 'Sign up now to get your own personalized timeline!',\n",
       " 'Sign up',\n",
       " 'Sign up',\n",
       " 'You might like',\n",
       " 'NASA InSight',\n",
       " 'NASA InSight',\n",
       " '@NASAInSight',\n",
       " 'Follow',\n",
       " 'Follow',\n",
       " 'Emily Lakdawalla',\n",
       " 'Emily Lakdawalla',\n",
       " '@elakdawalla',\n",
       " 'Follow',\n",
       " 'Follow',\n",
       " 'Incredible!ndia',\n",
       " 'Incredible!ndia',\n",
       " '@incredibleindia',\n",
       " 'Follow',\n",
       " 'Follow',\n",
       " 'Show more',\n",
       " 'Trends for you',\n",
       " '',\n",
       " 'Politics · Trending',\n",
       " '#whiteprivilege',\n",
       " '#whiteprivilege',\n",
       " '15.6K Tweets',\n",
       " 'Politics · Trending',\n",
       " 'National Guard',\n",
       " '35.7K Tweets',\n",
       " 'Entertainment · Trending',\n",
       " 'Tropic Thunder',\n",
       " '62.7K Tweets',\n",
       " 'Politics · Trending',\n",
       " 'Black Panthers',\n",
       " '25.7K Tweets',\n",
       " 'Entertainment · Trending',\n",
       " '#ParksAndRec',\n",
       " '#ParksAndRec',\n",
       " 'Trending with: #ParksAndRecreation, Jean Ralphio, Lil Sebastian',\n",
       " 'Event',\n",
       " 'Event',\n",
       " 'Parks and Recreation cast reunite for quarantine special',\n",
       " 'Parks and Recreation cast reunite for quarantine special',\n",
       " 'Show more',\n",
       " 'Terms',\n",
       " 'Privacy policy',\n",
       " 'Cookies',\n",
       " 'Ads info',\n",
       " '© 2020 Twitter, Inc.']"
      ]
     },
     "execution_count": 15,
     "metadata": {},
     "output_type": "execute_result"
    }
   ],
   "source": [
    "tweets = browser.find_by_tag('span')\n",
    "\n",
    "weather = []\n",
    "for tweet in tweets:\n",
    "    weather.append(tweet.value)\n",
    "weather"
   ]
  },
  {
   "cell_type": "code",
   "execution_count": 16,
   "metadata": {},
   "outputs": [
    {
     "data": {
      "text/plain": [
       "['InSight sol 506 (2020-04-29) low -93.5ºC (-136.2ºF) high -3.7ºC (25.3ºF)\\nwinds from the WNW at 4.5 m/s (10.1 mph) gusting to 15.6 m/s (34.8 mph)\\npressure at 6.80 hPa',\n",
       " 'InSight sol 505 (2020-04-28) low -93.8ºC (-136.8ºF) high -6.6ºC (20.1ºF)\\nwinds from the WNW at 4.2 m/s (9.4 mph) gusting to 13.2 m/s (29.6 mph)\\npressure at 6.70 hPa',\n",
       " 'InSight sol 504 (2020-04-27) low -93.6ºC (-136.5ºF) high -6.7ºC (20.0ºF)\\nwinds from the SW at 4.6 m/s (10.3 mph) gusting to 15.0 m/s (33.6 mph)\\npressure at 6.80 hPa']"
      ]
     },
     "execution_count": 16,
     "metadata": {},
     "output_type": "execute_result"
    }
   ],
   "source": [
    "weather_tweets = []\n",
    "for x in weather:\n",
    "    if \"sol\" in x:\n",
    "        weather_tweets.append(x)\n",
    "weather_tweets"
   ]
  },
  {
   "cell_type": "code",
   "execution_count": 17,
   "metadata": {},
   "outputs": [
    {
     "data": {
      "text/plain": [
       "'InSight sol 506 (2020-04-29) low -93.5ºC (-136.2ºF) high -3.7ºC (25.3ºF)\\nwinds from the WNW at 4.5 m/s (10.1 mph) gusting to 15.6 m/s (34.8 mph)\\npressure at 6.80 hPa'"
      ]
     },
     "execution_count": 17,
     "metadata": {},
     "output_type": "execute_result"
    }
   ],
   "source": [
    "mars_weather = weather_tweets[0]\n",
    "mars_weather"
   ]
  },
  {
   "cell_type": "markdown",
   "metadata": {},
   "source": [
    "### Mars Facts"
   ]
  },
  {
   "cell_type": "code",
   "execution_count": 18,
   "metadata": {},
   "outputs": [],
   "source": [
    "mars_facts_url = \"https://space-facts.com/mars/\""
   ]
  },
  {
   "cell_type": "code",
   "execution_count": 19,
   "metadata": {},
   "outputs": [
    {
     "data": {
      "text/plain": [
       "[                      0                              1\n",
       " 0  Equatorial Diameter:                       6,792 km\n",
       " 1       Polar Diameter:                       6,752 km\n",
       " 2                 Mass:  6.39 × 10^23 kg (0.11 Earths)\n",
       " 3                Moons:            2 (Phobos & Deimos)\n",
       " 4       Orbit Distance:       227,943,824 km (1.38 AU)\n",
       " 5         Orbit Period:           687 days (1.9 years)\n",
       " 6  Surface Temperature:                   -87 to -5 °C\n",
       " 7         First Record:              2nd millennium BC\n",
       " 8          Recorded By:           Egyptian astronomers,\n",
       "   Mars - Earth Comparison             Mars            Earth\n",
       " 0               Diameter:         6,779 km        12,742 km\n",
       " 1                   Mass:  6.39 × 10^23 kg  5.97 × 10^24 kg\n",
       " 2                  Moons:                2                1\n",
       " 3      Distance from Sun:   227,943,824 km   149,598,262 km\n",
       " 4         Length of Year:   687 Earth days      365.24 days\n",
       " 5            Temperature:    -153 to 20 °C      -88 to 58°C,\n",
       "                       0                              1\n",
       " 0  Equatorial Diameter:                       6,792 km\n",
       " 1       Polar Diameter:                       6,752 km\n",
       " 2                 Mass:  6.39 × 10^23 kg (0.11 Earths)\n",
       " 3                Moons:            2 (Phobos & Deimos)\n",
       " 4       Orbit Distance:       227,943,824 km (1.38 AU)\n",
       " 5         Orbit Period:           687 days (1.9 years)\n",
       " 6  Surface Temperature:                   -87 to -5 °C\n",
       " 7         First Record:              2nd millennium BC\n",
       " 8          Recorded By:           Egyptian astronomers]"
      ]
     },
     "execution_count": 19,
     "metadata": {},
     "output_type": "execute_result"
    }
   ],
   "source": [
    "tables = pd.read_html(mars_facts_url)\n",
    "tables"
   ]
  },
  {
   "cell_type": "code",
   "execution_count": 20,
   "metadata": {},
   "outputs": [
    {
     "data": {
      "text/html": [
       "<div>\n",
       "<style scoped>\n",
       "    .dataframe tbody tr th:only-of-type {\n",
       "        vertical-align: middle;\n",
       "    }\n",
       "\n",
       "    .dataframe tbody tr th {\n",
       "        vertical-align: top;\n",
       "    }\n",
       "\n",
       "    .dataframe thead th {\n",
       "        text-align: right;\n",
       "    }\n",
       "</style>\n",
       "<table border=\"1\" class=\"dataframe\">\n",
       "  <thead>\n",
       "    <tr style=\"text-align: right;\">\n",
       "      <th></th>\n",
       "      <th>value</th>\n",
       "    </tr>\n",
       "    <tr>\n",
       "      <th>0</th>\n",
       "      <th></th>\n",
       "    </tr>\n",
       "  </thead>\n",
       "  <tbody>\n",
       "    <tr>\n",
       "      <th>Equatorial Diameter:</th>\n",
       "      <td>6,792 km</td>\n",
       "    </tr>\n",
       "    <tr>\n",
       "      <th>Polar Diameter:</th>\n",
       "      <td>6,752 km</td>\n",
       "    </tr>\n",
       "    <tr>\n",
       "      <th>Mass:</th>\n",
       "      <td>6.39 × 10^23 kg (0.11 Earths)</td>\n",
       "    </tr>\n",
       "    <tr>\n",
       "      <th>Moons:</th>\n",
       "      <td>2 (Phobos &amp; Deimos)</td>\n",
       "    </tr>\n",
       "    <tr>\n",
       "      <th>Orbit Distance:</th>\n",
       "      <td>227,943,824 km (1.38 AU)</td>\n",
       "    </tr>\n",
       "    <tr>\n",
       "      <th>Orbit Period:</th>\n",
       "      <td>687 days (1.9 years)</td>\n",
       "    </tr>\n",
       "    <tr>\n",
       "      <th>Surface Temperature:</th>\n",
       "      <td>-87 to -5 °C</td>\n",
       "    </tr>\n",
       "    <tr>\n",
       "      <th>First Record:</th>\n",
       "      <td>2nd millennium BC</td>\n",
       "    </tr>\n",
       "    <tr>\n",
       "      <th>Recorded By:</th>\n",
       "      <td>Egyptian astronomers</td>\n",
       "    </tr>\n",
       "  </tbody>\n",
       "</table>\n",
       "</div>"
      ],
      "text/plain": [
       "                                              value\n",
       "0                                                  \n",
       "Equatorial Diameter:                       6,792 km\n",
       "Polar Diameter:                            6,752 km\n",
       "Mass:                 6.39 × 10^23 kg (0.11 Earths)\n",
       "Moons:                          2 (Phobos & Deimos)\n",
       "Orbit Distance:            227,943,824 km (1.38 AU)\n",
       "Orbit Period:                  687 days (1.9 years)\n",
       "Surface Temperature:                   -87 to -5 °C\n",
       "First Record:                     2nd millennium BC\n",
       "Recorded By:                   Egyptian astronomers"
      ]
     },
     "execution_count": 20,
     "metadata": {},
     "output_type": "execute_result"
    }
   ],
   "source": [
    "df = tables[0]\n",
    "df.columns = ['0', 'value']\n",
    "df.set_index('0', inplace = True)\n",
    "df"
   ]
  },
  {
   "cell_type": "code",
   "execution_count": 21,
   "metadata": {},
   "outputs": [],
   "source": [
    "html_table = df.to_html(\"table.html\")"
   ]
  },
  {
   "cell_type": "markdown",
   "metadata": {},
   "source": [
    "### Mars Hemispheres"
   ]
  },
  {
   "cell_type": "code",
   "execution_count": 22,
   "metadata": {},
   "outputs": [],
   "source": [
    "hemispheres_url = \"https://astrogeology.usgs.gov/search/results?q=hemisphere+enhanced&k1=target&v1=Mars\"\n",
    "browser.visit(hemispheres_url)"
   ]
  },
  {
   "cell_type": "code",
   "execution_count": 23,
   "metadata": {},
   "outputs": [],
   "source": [
    "# HTML object\n",
    "html = browser.html\n",
    "# Parse HTML with Beautiful Soup\n",
    "soup = bs(html, 'html.parser')\n",
    "# Retrieve all elements that contain hemisphere images/links\n",
    "pictures = soup.find_all('div', class_='item')\n",
    "\n",
    "page_links = []\n",
    "titles = []\n",
    "for picture in pictures:\n",
    "    title = picture.find('h3').text\n",
    "    titles.append(title)\n",
    "    \n",
    "    pic_link = picture.find('a')['href']\n",
    "    page_links.append(f'https://astrogeology.usgs.gov{pic_link}')"
   ]
  },
  {
   "cell_type": "code",
   "execution_count": 24,
   "metadata": {},
   "outputs": [],
   "source": [
    "img_urls = []\n",
    "\n",
    "for link in page_links:\n",
    "    browser.visit(link)\n",
    "    image = soup.find_all('ul')[0]\n",
    "    urls = image.find_all('a')\n",
    "    pic_url = urls[0]['href']\n",
    "    img_urls.append(pic_url)"
   ]
  },
  {
   "cell_type": "code",
   "execution_count": 25,
   "metadata": {},
   "outputs": [
    {
     "ename": "IndexError",
     "evalue": "list index out of range",
     "output_type": "error",
     "traceback": [
      "\u001b[0;31m---------------------------------------------------------------------------\u001b[0m",
      "\u001b[0;31mIndexError\u001b[0m                                Traceback (most recent call last)",
      "\u001b[0;32m<ipython-input-25-da2e853f01e5>\u001b[0m in \u001b[0;36m<module>\u001b[0;34m\u001b[0m\n\u001b[1;32m      2\u001b[0m \u001b[0;32mfor\u001b[0m \u001b[0mx\u001b[0m \u001b[0;32min\u001b[0m \u001b[0mrange\u001b[0m\u001b[0;34m(\u001b[0m\u001b[0;36m4\u001b[0m\u001b[0;34m)\u001b[0m\u001b[0;34m:\u001b[0m\u001b[0;34m\u001b[0m\u001b[0;34m\u001b[0m\u001b[0m\n\u001b[1;32m      3\u001b[0m     \u001b[0mimage_dict\u001b[0m \u001b[0;34m=\u001b[0m \u001b[0;34m{\u001b[0m\u001b[0;34m}\u001b[0m\u001b[0;34m\u001b[0m\u001b[0;34m\u001b[0m\u001b[0m\n\u001b[0;32m----> 4\u001b[0;31m     \u001b[0mimage_dict\u001b[0m\u001b[0;34m[\u001b[0m\u001b[0;34m\"title\"\u001b[0m\u001b[0;34m]\u001b[0m \u001b[0;34m=\u001b[0m \u001b[0mtitles\u001b[0m\u001b[0;34m[\u001b[0m\u001b[0mx\u001b[0m\u001b[0;34m]\u001b[0m\u001b[0;34m\u001b[0m\u001b[0;34m\u001b[0m\u001b[0m\n\u001b[0m\u001b[1;32m      5\u001b[0m     \u001b[0mimage_dict\u001b[0m\u001b[0;34m[\u001b[0m\u001b[0;34m\"img_url\"\u001b[0m\u001b[0;34m]\u001b[0m \u001b[0;34m=\u001b[0m \u001b[0mimg_urls\u001b[0m\u001b[0;34m[\u001b[0m\u001b[0mx\u001b[0m\u001b[0;34m]\u001b[0m\u001b[0;34m\u001b[0m\u001b[0;34m\u001b[0m\u001b[0m\n",
      "\u001b[0;31mIndexError\u001b[0m: list index out of range"
     ]
    }
   ],
   "source": [
    "hemisphere_image_urls = []\n",
    "for x in range(4):\n",
    "    image_dict = {}\n",
    "    image_dict[\"title\"] = titles[x]\n",
    "    image_dict[\"img_url\"] = img_urls[x]"
   ]
  },
  {
   "cell_type": "code",
   "execution_count": null,
   "metadata": {},
   "outputs": [],
   "source": []
  }
 ],
 "metadata": {
  "kernelspec": {
   "display_name": "Python [conda env:PythonData] *",
   "language": "python",
   "name": "conda-env-PythonData-py"
  },
  "language_info": {
   "codemirror_mode": {
    "name": "ipython",
    "version": 3
   },
   "file_extension": ".py",
   "mimetype": "text/x-python",
   "name": "python",
   "nbconvert_exporter": "python",
   "pygments_lexer": "ipython3",
   "version": "3.6.10"
  }
 },
 "nbformat": 4,
 "nbformat_minor": 4
}
